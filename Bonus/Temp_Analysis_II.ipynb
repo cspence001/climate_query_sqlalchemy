{
 "cells": [
  {
   "cell_type": "code",
   "execution_count": 1,
   "metadata": {},
   "outputs": [],
   "source": [
    "%matplotlib inline\n",
    "from matplotlib import style\n",
    "style.use('fivethirtyeight')\n",
    "import matplotlib.pyplot as plt"
   ]
  },
  {
   "cell_type": "code",
   "execution_count": 25,
   "metadata": {},
   "outputs": [],
   "source": [
    "import numpy as np\n",
    "import pandas as pd\n",
    "import datetime as dt"
   ]
  },
  {
   "cell_type": "markdown",
   "metadata": {},
   "source": [
    "## Reflect Tables into SQLALchemy ORM"
   ]
  },
  {
   "cell_type": "code",
   "execution_count": 26,
   "metadata": {},
   "outputs": [],
   "source": [
    "# Python SQL toolkit and Object Relational Mapper\n",
    "import sqlalchemy\n",
    "from sqlalchemy.ext.automap import automap_base\n",
    "from sqlalchemy.orm import Session\n",
    "from sqlalchemy import create_engine, func"
   ]
  },
  {
   "cell_type": "code",
   "execution_count": 27,
   "metadata": {},
   "outputs": [],
   "source": [
    "# create engine to hawaii.sqlite\n",
    "engine = create_engine(\"sqlite:///../Resources/hawaii.sqlite\")\n",
    "conn = engine.connect()"
   ]
  },
  {
   "cell_type": "code",
   "execution_count": 28,
   "metadata": {},
   "outputs": [],
   "source": [
    "# reflect an existing database into a new model\n",
    "Base = automap_base()\n",
    "# reflect the tables\n",
    "Base.prepare(engine, reflect=True)"
   ]
  },
  {
   "cell_type": "code",
   "execution_count": 29,
   "metadata": {},
   "outputs": [
    {
     "data": {
      "text/plain": [
       "['measurement', 'station']"
      ]
     },
     "execution_count": 29,
     "metadata": {},
     "output_type": "execute_result"
    }
   ],
   "source": [
    "# View all of the classes that automap found\n",
    "Base.classes.keys()"
   ]
  },
  {
   "cell_type": "code",
   "execution_count": 30,
   "metadata": {},
   "outputs": [],
   "source": [
    "# Save references to each table\n",
    "Measurement = Base.classes.measurement\n",
    "Station = Base.classes.station"
   ]
  },
  {
   "cell_type": "code",
   "execution_count": 31,
   "metadata": {},
   "outputs": [],
   "source": [
    "# Create our session (link) from Python to the DB\n",
    "session = Session(engine) "
   ]
  },
  {
   "cell_type": "markdown",
   "metadata": {},
   "source": [
    "## Bonus Challenge Assignment: Temperature Analysis II"
   ]
  },
  {
   "cell_type": "code",
   "execution_count": 32,
   "metadata": {},
   "outputs": [
    {
     "name": "stdout",
     "output_type": "stream",
     "text": [
      "[(62.0, 69.57142857142857, 74.0)]\n"
     ]
    }
   ],
   "source": [
    "# This function called `calc_temps` will accept start date and end date in the format '%Y-%m-%d' \n",
    "# and return the minimum, maximum, and average temperatures for that range of dates\n",
    "def calc_temps(start_date, end_date):\n",
    "    \n",
    "    year, month, day = map(int,start_date.split('-'))\n",
    "    start_date = dt.date(year, month, day)\n",
    "\n",
    "    year, month, day = map(int,end_date.split('-'))\n",
    "    end_date = dt.date(year, month, day)\n",
    "    \n",
    "    \"\"\"TMIN, TAVG, and TMAX for a list of dates.\n",
    "    \n",
    "    Args:\n",
    "        start_date (string): A date string in the format %Y-%m-%d\n",
    "        end_date (string): A date string in the format %Y-%m-%d\n",
    "        \n",
    "    Returns:\n",
    "        TMIN, TAVE, and TMAX\n",
    "    \"\"\"\n",
    "    \n",
    "    return session.query(func.min(Measurement.tobs), func.avg(Measurement.tobs), func.max(Measurement.tobs)).\\\n",
    "        filter(Measurement.date >= start_date).filter(Measurement.date <= end_date).all()\n",
    "\n",
    "# For example\n",
    "print(calc_temps('2012-02-28', '2012-03-05'))"
   ]
  },
  {
   "cell_type": "code",
   "execution_count": 33,
   "metadata": {},
   "outputs": [
    {
     "data": {
      "text/plain": [
       "[(72.0, 79.25, 83.0)]"
      ]
     },
     "execution_count": 33,
     "metadata": {},
     "output_type": "execute_result"
    }
   ],
   "source": [
    "# Use the function `calc_temps` to calculate the tmin, tavg, and tmax \n",
    "# for a year in the data set\n",
    "year = calc_temps('2017-08-01', '2017-08-07')\n",
    "year"
   ]
  },
  {
   "cell_type": "code",
   "execution_count": 34,
   "metadata": {},
   "outputs": [
    {
     "data": {
      "text/plain": [
       "<BarContainer object of 1 artists>"
      ]
     },
     "execution_count": 34,
     "metadata": {},
     "output_type": "execute_result"
    },
    {
     "data": {
      "image/png": "[encoded data removed]",
      "text/plain": [
       "<Figure size 432x288 with 1 Axes>"
      ]
     },
     "metadata": {},
     "output_type": "display_data"
    }
   ],
   "source": [
    "# Plot the results from your previous query as a bar chart. \n",
    "year_list = year[0]\n",
    "year_list\n",
    "year_min = year_list[0]\n",
    "year_avg = year_list[1]\n",
    "year_max = year_list[2]\n",
    "\n",
    "error = year_max - year_min\n",
    "\n",
    "# Use \"Trip Avg Temp\" as your Title\n",
    "# Use the average temperature for bar height (y value)\n",
    "\n",
    "# Use the peak-to-peak (tmax-tmin) value as the y error bar (yerr)\n",
    "#results = [{\"year_min\": year_list[0], \"year_ave\": year_list[1], \"year_max\": year_list[2] }]\n",
    "#color=peachpuff\n",
    "plt.title(\"Trip Avg Temp\")\n",
    "plt.bar(x=False, width=0.2, height=year_avg, yerr=error, color ='lightsalmon', alpha =.8)"
   ]
  },
  {
   "cell_type": "markdown",
   "metadata": {},
   "source": [
    "### Daily Rainfall Average"
   ]
  },
  {
   "cell_type": "code",
   "execution_count": null,
   "metadata": {},
   "outputs": [],
   "source": []
  },
  {
   "cell_type": "code",
   "execution_count": 37,
   "metadata": {},
   "outputs": [
    {
     "data": {
      "text/plain": [
       "[(0.36, 'MANOA LYON ARBO 785.2, HI US', 21.3331, -157.8025, 152.4),\n",
       " (0.1, 'KUALOA RANCH HEADQUARTERS 886.9, HI US', 21.5213, -157.8374, 7.0),\n",
       " (0.0, 'WAIMANALO EXPERIMENTAL FARM, HI US', 21.33556, -157.71139, 19.5),\n",
       " (0.02, 'WAIKIKI 717.2, HI US', 21.2716, -157.8168, 3.0),\n",
       " (0.06, 'WAIHEE 837.5, HI US', 21.45167, -157.84888999999998, 32.9)]"
      ]
     },
     "execution_count": 37,
     "metadata": {},
     "output_type": "execute_result"
    }
   ],
   "source": [
    "# Calculate the total amount of rainfall per weather station for your trip dates using the previous year's \n",
    "# matching dates.\n",
    "# Sort this in descending order by precipitation amount and list the station, name, latitude, longitude, and elevation\n",
    "    \n",
    "sel = [func.sum(Measurement.prcp),\n",
    "       Station.name,\n",
    "       Station.latitude,\n",
    "       Station.longitude,\n",
    "       Station.elevation,\n",
    "      ]\n",
    "    \n",
    "start_date = dt.datetime(2017, 8, 1)\n",
    "end_date = dt.datetime(2017, 8, 7)\n",
    "    \n",
    "    \n",
    "results = session.query(*sel).\\\n",
    "    filter(Measurement.station == Station.station).\\\n",
    "    filter(Measurement.date >= start_date).filter(Measurement.date <= end_date).\\\n",
    "    group_by(Measurement.station).\\\n",
    "    order_by(Measurement.prcp.desc()).all()\n",
    "    \n",
    "results\n"
   ]
  },
  {
   "cell_type": "code",
   "execution_count": 38,
   "metadata": {},
   "outputs": [
    {
     "data": {
      "text/plain": [
       "[(62.0, 69.15384615384616, 77.0)]"
      ]
     },
     "execution_count": 38,
     "metadata": {},
     "output_type": "execute_result"
    }
   ],
   "source": [
    "# Use this function to calculate the daily normals \n",
    "# (i.e. the averages for tmin, tmax, and tavg for all historic data matching a specific month and day)\n",
    "\n",
    "def daily_normals(date):\n",
    "    \n",
    "    #year, month, day = map(int,date.split('-'))\n",
    "    date = \"01-01\"\n",
    "    \"\"\"Daily Normals.\n",
    "    \n",
    "    Args:\n",
    "        date (str): A date string in the format '%m-%d'\n",
    "        \n",
    "    Returns:\n",
    "        A list of tuples containing the daily normals, tmin, tavg, and tmax\n",
    "    \n",
    "    \"\"\"\n",
    "    \n",
    "    sel = [func.min(Measurement.tobs), func.avg(Measurement.tobs), func.max(Measurement.tobs)]\n",
    "    return session.query(*sel).filter(func.strftime(\"%m-%d\", Measurement.date) == date).all()\n",
    "\n",
    "# For example\n",
    "daily_normals(\"01-01\")"
   ]
  },
  {
   "cell_type": "code",
   "execution_count": 39,
   "metadata": {},
   "outputs": [
    {
     "name": "stdout",
     "output_type": "stream",
     "text": [
      "['08-02', '08-02', '08-02', '08-02', '08-03', '08-03', '08-03', '08-03', '08-04', '08-04', '08-04', '08-04', '08-05', '08-05', '08-05', '08-06', '08-06', '08-06', '08-06', '08-06', '08-07', '08-07', '08-07', '08-07']\n",
      "[[[(62.0, 69.15384615384616, 77.0)]], [[(62.0, 69.15384615384616, 77.0)]], [[(62.0, 69.15384615384616, 77.0)]], [[(62.0, 69.15384615384616, 77.0)]], [[(62.0, 69.15384615384616, 77.0)]], [[(62.0, 69.15384615384616, 77.0)]], [[(62.0, 69.15384615384616, 77.0)]], [[(62.0, 69.15384615384616, 77.0)]], [[(62.0, 69.15384615384616, 77.0)]], [[(62.0, 69.15384615384616, 77.0)]], [[(62.0, 69.15384615384616, 77.0)]], [[(62.0, 69.15384615384616, 77.0)]], [[(62.0, 69.15384615384616, 77.0)]], [[(62.0, 69.15384615384616, 77.0)]], [[(62.0, 69.15384615384616, 77.0)]], [[(62.0, 69.15384615384616, 77.0)]], [[(62.0, 69.15384615384616, 77.0)]], [[(62.0, 69.15384615384616, 77.0)]], [[(62.0, 69.15384615384616, 77.0)]], [[(62.0, 69.15384615384616, 77.0)]], [[(62.0, 69.15384615384616, 77.0)]], [[(62.0, 69.15384615384616, 77.0)]], [[(62.0, 69.15384615384616, 77.0)]], [[(62.0, 69.15384615384616, 77.0)]]]\n"
     ]
    }
   ],
   "source": [
    "# calculate the daily normals for your trip\n",
    "# push each tuple of calculations into a list called `normals`\n",
    "\n",
    "# Set the start and end date of the trip\n",
    "start_date = dt.datetime(2017, 8, 1)\n",
    "end_date = dt.datetime(2017, 8, 7)\n",
    "\n",
    "# Use the start and end date to create a range of dates\n",
    "results = session.query(Measurement.date).\\\n",
    "    filter(Measurement.date >= start_date).filter(Measurement.date <= end_date).\\\n",
    "    order_by(Measurement.date).all()\n",
    "\n",
    "trip_dates = list(np.ravel(results))\n",
    "trip_dates\n",
    "# Strip off the year and save a list of strings in the format %m-%d\n",
    "dates = (datetime.strptime(dr, '%Y-%m-%d') for dr in trip_dates)\n",
    "date_strings = [datetime.strftime(d, '%m-%d') for d in dates]\n",
    "\n",
    "print(date_strings)\n",
    "\n",
    "# Use the `daily_normals` function to calculate the normals for each date string \n",
    "# and append the results to a list called `normals`.\n",
    "\n",
    "\n",
    "normals=[]\n",
    "count = 0 \n",
    "for date in date_strings:\n",
    "    function = daily_normals(date)\n",
    "    normals.append([function])\n",
    "    if normals[0]==normals[-1]:\n",
    "        count= count+1\n",
    "\n",
    "print(normals)\n"
   ]
  },
  {
   "cell_type": "code",
   "execution_count": null,
   "metadata": {},
   "outputs": [],
   "source": [
    "# Load the previous query results into a Pandas DataFrame and add the `trip_dates` range as the `date` index"
   ]
  },
  {
   "cell_type": "code",
   "execution_count": null,
   "metadata": {},
   "outputs": [],
   "source": [
    "# Plot the daily normals as an area plot with `stacked=False`"
   ]
  },
  {
   "cell_type": "markdown",
   "metadata": {},
   "source": [
    "## Close Session"
   ]
  },
  {
   "cell_type": "code",
   "execution_count": null,
   "metadata": {},
   "outputs": [],
   "source": [
    "session.close()"
   ]
  }
 ],
 "metadata": {
  "kernelspec": {
   "display_name": "Python 3",
   "language": "python",
   "name": "python3"
  },
  "language_info": {
   "codemirror_mode": {
    "name": "ipython",
    "version": 3
   },
   "file_extension": ".py",
   "mimetype": "text/x-python",
   "name": "python",
   "nbconvert_exporter": "python",
   "pygments_lexer": "ipython3",
   "version": "3.8.3"
  }
 },
 "nbformat": 4,
 "nbformat_minor": 4
}
